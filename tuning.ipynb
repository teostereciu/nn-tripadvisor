{
 "cells": [
  {
   "cell_type": "code",
   "execution_count": null,
   "metadata": {},
   "outputs": [],
   "source": [
    "import pandas as pd\n",
    "import numpy as np\n",
    "from sklearn.model_selection import GridSearchCV\n",
    "from sklearn.model_selection import train_test_split\n",
    "from sklearn.metrics import accuracy_score\n",
    "from sklearn.pipeline import Pipeline\n",
    "from keras.models import Sequential\n",
    "from keras.layers import Embedding, LSTM, Dense, Bidirectional\n",
    "from keras.preprocessing.text import Tokenizer\n",
    "from keras.utils import pad_sequences\n",
    "from keras.utils import to_categorical\n",
    "from keras.wrappers.scikit_learn import KerasClassifier\n",
    "from keras.optimizers import Adam"
   ]
  },
  {
   "cell_type": "code",
   "execution_count": null,
   "metadata": {},
   "outputs": [],
   "source": [
    "# import data and splits\n",
    "\n",
    "df = pd.read_csv('clean_data.csv')\n",
    "train_df = df.groupby('label', group_keys=False).apply(lambda x: x.sample(frac=0.9, random_state=20723))\n",
    "test_df = df.drop(train_df.index, axis=0)\n",
    "\n",
    "def vectorize(data, tokenizer=None, max_len=40):\n",
    "    if tokenizer is None:\n",
    "        tokenizer = Tokenizer()\n",
    "        tokenizer.fit_on_texts(data)\n",
    "    sequences = tokenizer.texts_to_sequences(data)\n",
    "    padded = pad_sequences(sequences, maxlen=max_len)\n",
    "    return padded, tokenizer\n",
    "\n",
    "X_train, tokenizer = vectorize(train_df['text'])\n",
    "y_train = to_categorical(train_df['label'].apply(lambda x: x-1))\n",
    "X_test, _ = vectorize(test_df['text'], tokenizer)\n",
    "y_test = test_df['label']\n",
    "\n",
    "vocab_size = len(tokenizer.word_index)+1"
   ]
  },
  {
   "cell_type": "code",
   "execution_count": null,
   "metadata": {},
   "outputs": [],
   "source": [
    "def create_model(embedding_dim, lstm_units, lstm_dropout, learning_rate, num_neurons, num_layers):\n",
    "    model = Sequential()\n",
    "    model.add(Embedding(input_dim=vocab_size, output_dim=embedding_dim))\n",
    "    for _ in range(num_layers):\n",
    "        model.add(Bidirectional(LSTM(units=lstm_units, dropout=lstm_dropout, return_sequences=True)))\n",
    "    model.add(Bidirectional(LSTM(units=lstm_units, dropout=lstm_dropout)))\n",
    "    model.add(Dense(units=num_neurons, activation='relu'))\n",
    "    model.add(Dense(units=5, activation='softmax'))\n",
    "    \n",
    "    optimizer = Adam(learning_rate=learning_rate)\n",
    "    model.compile(loss='categorical_crossentropy', optimizer=optimizer, metrics=['accuracy'])\n",
    "    \n",
    "    return model"
   ]
  },
  {
   "cell_type": "code",
   "execution_count": null,
   "metadata": {},
   "outputs": [],
   "source": [
    "param_grid = {\n",
    "    'embedding_dim': [100, 200],\n",
    "    'lstm_units': [64, 128],\n",
    "    'lstm_dropout': [0.2, 0.3],\n",
    "    'learning_rate': [0.001, 0.01, 0.1],\n",
    "    'num_neurons': [64, 128, 256],\n",
    "    'num_layers': [0, 1],\n",
    "}"
   ]
  },
  {
   "cell_type": "code",
   "execution_count": null,
   "metadata": {},
   "outputs": [],
   "source": [
    "model = KerasClassifier(build_fn=create_model, verbose=1, epochs=10, batch_size=16)\n",
    "grid_search = GridSearchCV(estimator=model, param_grid=param_grid, cv=5, scoring='accuracy')\n",
    "grid_search.fit(X_train, y_train)"
   ]
  },
  {
   "cell_type": "code",
   "execution_count": null,
   "metadata": {},
   "outputs": [],
   "source": [
    "# Print the best hyperparameters and accuracy\n",
    "print(\"Best Hyperparameters: \", grid_search.best_params_)\n",
    "print(\"Best Accuracy: \", grid_search.best_score_)"
   ]
  },
  {
   "cell_type": "code",
   "execution_count": null,
   "metadata": {},
   "outputs": [],
   "source": [
    "# Evaluate the best model on the test set\n",
    "best_model = grid_search.best_estimator_\n",
    "y_pred = best_model.predict(X_test)\n",
    "accuracy = accuracy_score(y_test, y_pred)\n",
    "print(\"Test Accuracy: \", accuracy)"
   ]
  }
 ],
 "metadata": {
  "language_info": {
   "name": "python"
  },
  "orig_nbformat": 4
 },
 "nbformat": 4,
 "nbformat_minor": 2
}
